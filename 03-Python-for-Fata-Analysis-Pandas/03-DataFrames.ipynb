{
 "metadata": {
  "language_info": {
   "codemirror_mode": {
    "name": "ipython",
    "version": 3
   },
   "file_extension": ".py",
   "mimetype": "text/x-python",
   "name": "python",
   "nbconvert_exporter": "python",
   "pygments_lexer": "ipython3",
   "version": "3.8.5-final"
  },
  "orig_nbformat": 2,
  "kernelspec": {
   "name": "python3",
   "display_name": "Python 3",
   "language": "python"
  }
 },
 "nbformat": 4,
 "nbformat_minor": 2,
 "cells": [
  {
   "cell_type": "code",
   "execution_count": 1,
   "metadata": {},
   "outputs": [],
   "source": [
    "import numpy as np\n",
    "import pandas as pd"
   ]
  },
  {
   "cell_type": "code",
   "execution_count": 2,
   "metadata": {},
   "outputs": [],
   "source": [
    "from numpy.random import randn"
   ]
  },
  {
   "cell_type": "code",
   "execution_count": 6,
   "metadata": {},
   "outputs": [],
   "source": [
    "np.random.seed(101) #sets the seed so it give the same random numbers"
   ]
  },
  {
   "cell_type": "code",
   "execution_count": 15,
   "metadata": {},
   "outputs": [
    {
     "output_type": "execute_result",
     "data": {
      "text/plain": [
       "          W         X         Y         Z\n",
       "A  0.093628  1.240813 -1.097693 -1.908009\n",
       "B -0.380104 -1.666059 -2.736995  1.522562\n",
       "C  0.178009 -0.626805 -0.391089  1.743477\n",
       "D  1.130018  0.897796  0.330866 -1.063049\n",
       "E -0.125381 -0.945588  2.029544 -1.046358"
      ],
      "text/html": "<div>\n<style scoped>\n    .dataframe tbody tr th:only-of-type {\n        vertical-align: middle;\n    }\n\n    .dataframe tbody tr th {\n        vertical-align: top;\n    }\n\n    .dataframe thead th {\n        text-align: right;\n    }\n</style>\n<table border=\"1\" class=\"dataframe\">\n  <thead>\n    <tr style=\"text-align: right;\">\n      <th></th>\n      <th>W</th>\n      <th>X</th>\n      <th>Y</th>\n      <th>Z</th>\n    </tr>\n  </thead>\n  <tbody>\n    <tr>\n      <th>A</th>\n      <td>0.093628</td>\n      <td>1.240813</td>\n      <td>-1.097693</td>\n      <td>-1.908009</td>\n    </tr>\n    <tr>\n      <th>B</th>\n      <td>-0.380104</td>\n      <td>-1.666059</td>\n      <td>-2.736995</td>\n      <td>1.522562</td>\n    </tr>\n    <tr>\n      <th>C</th>\n      <td>0.178009</td>\n      <td>-0.626805</td>\n      <td>-0.391089</td>\n      <td>1.743477</td>\n    </tr>\n    <tr>\n      <th>D</th>\n      <td>1.130018</td>\n      <td>0.897796</td>\n      <td>0.330866</td>\n      <td>-1.063049</td>\n    </tr>\n    <tr>\n      <th>E</th>\n      <td>-0.125381</td>\n      <td>-0.945588</td>\n      <td>2.029544</td>\n      <td>-1.046358</td>\n    </tr>\n  </tbody>\n</table>\n</div>"
     },
     "metadata": {},
     "execution_count": 15
    }
   ],
   "source": [
    "df = pd.DataFrame(randn(5,4), ['A', 'B', 'C', 'D', 'E'], ['W','X','Y','Z'])\n",
    "df"
   ]
  },
  {
   "cell_type": "code",
   "execution_count": 18,
   "metadata": {},
   "outputs": [
    {
     "output_type": "execute_result",
     "data": {
      "text/plain": [
       "A    0.093628\n",
       "B   -0.380104\n",
       "C    0.178009\n",
       "D    1.130018\n",
       "E   -0.125381\n",
       "Name: W, dtype: float64"
      ]
     },
     "metadata": {},
     "execution_count": 18
    }
   ],
   "source": [
    "df['W'] #this returns series so dataframe is just a bunch of series that share the same index"
   ]
  },
  {
   "cell_type": "code",
   "execution_count": 20,
   "metadata": {},
   "outputs": [
    {
     "output_type": "execute_result",
     "data": {
      "text/plain": [
       "          W         X\n",
       "A  0.093628  1.240813\n",
       "B -0.380104 -1.666059\n",
       "C  0.178009 -0.626805\n",
       "D  1.130018  0.897796\n",
       "E -0.125381 -0.945588"
      ],
      "text/html": "<div>\n<style scoped>\n    .dataframe tbody tr th:only-of-type {\n        vertical-align: middle;\n    }\n\n    .dataframe tbody tr th {\n        vertical-align: top;\n    }\n\n    .dataframe thead th {\n        text-align: right;\n    }\n</style>\n<table border=\"1\" class=\"dataframe\">\n  <thead>\n    <tr style=\"text-align: right;\">\n      <th></th>\n      <th>W</th>\n      <th>X</th>\n    </tr>\n  </thead>\n  <tbody>\n    <tr>\n      <th>A</th>\n      <td>0.093628</td>\n      <td>1.240813</td>\n    </tr>\n    <tr>\n      <th>B</th>\n      <td>-0.380104</td>\n      <td>-1.666059</td>\n    </tr>\n    <tr>\n      <th>C</th>\n      <td>0.178009</td>\n      <td>-0.626805</td>\n    </tr>\n    <tr>\n      <th>D</th>\n      <td>1.130018</td>\n      <td>0.897796</td>\n    </tr>\n    <tr>\n      <th>E</th>\n      <td>-0.125381</td>\n      <td>-0.945588</td>\n    </tr>\n  </tbody>\n</table>\n</div>"
     },
     "metadata": {},
     "execution_count": 20
    }
   ],
   "source": [
    "df[['W','X']]"
   ]
  },
  {
   "cell_type": "code",
   "execution_count": 43,
   "metadata": {},
   "outputs": [
    {
     "output_type": "execute_result",
     "data": {
      "text/plain": [
       "          W         X         Y         Z       New\n",
       "A  0.093628  1.240813 -1.097693 -1.908009  1.334441\n",
       "B -0.380104 -1.666059 -2.736995  1.522562 -2.046163\n",
       "C  0.178009 -0.626805 -0.391089  1.743477 -0.448796\n",
       "D  1.130018  0.897796  0.330866 -1.063049  2.027814\n",
       "E -0.125381 -0.945588  2.029544 -1.046358 -1.070969"
      ],
      "text/html": "<div>\n<style scoped>\n    .dataframe tbody tr th:only-of-type {\n        vertical-align: middle;\n    }\n\n    .dataframe tbody tr th {\n        vertical-align: top;\n    }\n\n    .dataframe thead th {\n        text-align: right;\n    }\n</style>\n<table border=\"1\" class=\"dataframe\">\n  <thead>\n    <tr style=\"text-align: right;\">\n      <th></th>\n      <th>W</th>\n      <th>X</th>\n      <th>Y</th>\n      <th>Z</th>\n      <th>New</th>\n    </tr>\n  </thead>\n  <tbody>\n    <tr>\n      <th>A</th>\n      <td>0.093628</td>\n      <td>1.240813</td>\n      <td>-1.097693</td>\n      <td>-1.908009</td>\n      <td>1.334441</td>\n    </tr>\n    <tr>\n      <th>B</th>\n      <td>-0.380104</td>\n      <td>-1.666059</td>\n      <td>-2.736995</td>\n      <td>1.522562</td>\n      <td>-2.046163</td>\n    </tr>\n    <tr>\n      <th>C</th>\n      <td>0.178009</td>\n      <td>-0.626805</td>\n      <td>-0.391089</td>\n      <td>1.743477</td>\n      <td>-0.448796</td>\n    </tr>\n    <tr>\n      <th>D</th>\n      <td>1.130018</td>\n      <td>0.897796</td>\n      <td>0.330866</td>\n      <td>-1.063049</td>\n      <td>2.027814</td>\n    </tr>\n    <tr>\n      <th>E</th>\n      <td>-0.125381</td>\n      <td>-0.945588</td>\n      <td>2.029544</td>\n      <td>-1.046358</td>\n      <td>-1.070969</td>\n    </tr>\n  </tbody>\n</table>\n</div>"
     },
     "metadata": {},
     "execution_count": 43
    }
   ],
   "source": [
    "df['New'] = df['W'] + df['X']\n",
    "df"
   ]
  },
  {
   "cell_type": "code",
   "execution_count": 44,
   "metadata": {},
   "outputs": [],
   "source": [
    "df.drop('New', axis=1, inplace=True) #when dropping, it default looks for the index you entered [A,B,C,D,E] in our case New is not a part of the index but rather it is a part of the coloums [W,X,Y,Z,New]. So by default the axis is set to 0, if we are dropping a column you change axis to 1"
   ]
  },
  {
   "cell_type": "code",
   "execution_count": 46,
   "metadata": {},
   "outputs": [
    {
     "output_type": "execute_result",
     "data": {
      "text/plain": [
       "          W         X         Y         Z\n",
       "A  0.093628  1.240813 -1.097693 -1.908009\n",
       "B -0.380104 -1.666059 -2.736995  1.522562\n",
       "C  0.178009 -0.626805 -0.391089  1.743477\n",
       "D  1.130018  0.897796  0.330866 -1.063049\n",
       "E -0.125381 -0.945588  2.029544 -1.046358"
      ],
      "text/html": "<div>\n<style scoped>\n    .dataframe tbody tr th:only-of-type {\n        vertical-align: middle;\n    }\n\n    .dataframe tbody tr th {\n        vertical-align: top;\n    }\n\n    .dataframe thead th {\n        text-align: right;\n    }\n</style>\n<table border=\"1\" class=\"dataframe\">\n  <thead>\n    <tr style=\"text-align: right;\">\n      <th></th>\n      <th>W</th>\n      <th>X</th>\n      <th>Y</th>\n      <th>Z</th>\n    </tr>\n  </thead>\n  <tbody>\n    <tr>\n      <th>A</th>\n      <td>0.093628</td>\n      <td>1.240813</td>\n      <td>-1.097693</td>\n      <td>-1.908009</td>\n    </tr>\n    <tr>\n      <th>B</th>\n      <td>-0.380104</td>\n      <td>-1.666059</td>\n      <td>-2.736995</td>\n      <td>1.522562</td>\n    </tr>\n    <tr>\n      <th>C</th>\n      <td>0.178009</td>\n      <td>-0.626805</td>\n      <td>-0.391089</td>\n      <td>1.743477</td>\n    </tr>\n    <tr>\n      <th>D</th>\n      <td>1.130018</td>\n      <td>0.897796</td>\n      <td>0.330866</td>\n      <td>-1.063049</td>\n    </tr>\n    <tr>\n      <th>E</th>\n      <td>-0.125381</td>\n      <td>-0.945588</td>\n      <td>2.029544</td>\n      <td>-1.046358</td>\n    </tr>\n  </tbody>\n</table>\n</div>"
     },
     "metadata": {},
     "execution_count": 46
    }
   ],
   "source": [
    "df"
   ]
  },
  {
   "cell_type": "code",
   "execution_count": 47,
   "metadata": {},
   "outputs": [],
   "source": [
    "df.drop('E', inplace=True) #drops the row E"
   ]
  },
  {
   "cell_type": "code",
   "execution_count": 49,
   "metadata": {},
   "outputs": [
    {
     "output_type": "execute_result",
     "data": {
      "text/plain": [
       "          W         X         Y         Z\n",
       "A  0.093628  1.240813 -1.097693 -1.908009\n",
       "B -0.380104 -1.666059 -2.736995  1.522562\n",
       "C  0.178009 -0.626805 -0.391089  1.743477\n",
       "D  1.130018  0.897796  0.330866 -1.063049"
      ],
      "text/html": "<div>\n<style scoped>\n    .dataframe tbody tr th:only-of-type {\n        vertical-align: middle;\n    }\n\n    .dataframe tbody tr th {\n        vertical-align: top;\n    }\n\n    .dataframe thead th {\n        text-align: right;\n    }\n</style>\n<table border=\"1\" class=\"dataframe\">\n  <thead>\n    <tr style=\"text-align: right;\">\n      <th></th>\n      <th>W</th>\n      <th>X</th>\n      <th>Y</th>\n      <th>Z</th>\n    </tr>\n  </thead>\n  <tbody>\n    <tr>\n      <th>A</th>\n      <td>0.093628</td>\n      <td>1.240813</td>\n      <td>-1.097693</td>\n      <td>-1.908009</td>\n    </tr>\n    <tr>\n      <th>B</th>\n      <td>-0.380104</td>\n      <td>-1.666059</td>\n      <td>-2.736995</td>\n      <td>1.522562</td>\n    </tr>\n    <tr>\n      <th>C</th>\n      <td>0.178009</td>\n      <td>-0.626805</td>\n      <td>-0.391089</td>\n      <td>1.743477</td>\n    </tr>\n    <tr>\n      <th>D</th>\n      <td>1.130018</td>\n      <td>0.897796</td>\n      <td>0.330866</td>\n      <td>-1.063049</td>\n    </tr>\n  </tbody>\n</table>\n</div>"
     },
     "metadata": {},
     "execution_count": 49
    }
   ],
   "source": [
    "df"
   ]
  },
  {
   "cell_type": "code",
   "execution_count": 50,
   "metadata": {},
   "outputs": [],
   "source": [
    "# ROWS"
   ]
  },
  {
   "cell_type": "code",
   "execution_count": 52,
   "metadata": {},
   "outputs": [
    {
     "output_type": "execute_result",
     "data": {
      "text/plain": [
       "          W         X         Y         Z\n",
       "A  0.093628  1.240813 -1.097693 -1.908009\n",
       "B -0.380104 -1.666059 -2.736995  1.522562\n",
       "C  0.178009 -0.626805 -0.391089  1.743477\n",
       "D  1.130018  0.897796  0.330866 -1.063049"
      ],
      "text/html": "<div>\n<style scoped>\n    .dataframe tbody tr th:only-of-type {\n        vertical-align: middle;\n    }\n\n    .dataframe tbody tr th {\n        vertical-align: top;\n    }\n\n    .dataframe thead th {\n        text-align: right;\n    }\n</style>\n<table border=\"1\" class=\"dataframe\">\n  <thead>\n    <tr style=\"text-align: right;\">\n      <th></th>\n      <th>W</th>\n      <th>X</th>\n      <th>Y</th>\n      <th>Z</th>\n    </tr>\n  </thead>\n  <tbody>\n    <tr>\n      <th>A</th>\n      <td>0.093628</td>\n      <td>1.240813</td>\n      <td>-1.097693</td>\n      <td>-1.908009</td>\n    </tr>\n    <tr>\n      <th>B</th>\n      <td>-0.380104</td>\n      <td>-1.666059</td>\n      <td>-2.736995</td>\n      <td>1.522562</td>\n    </tr>\n    <tr>\n      <th>C</th>\n      <td>0.178009</td>\n      <td>-0.626805</td>\n      <td>-0.391089</td>\n      <td>1.743477</td>\n    </tr>\n    <tr>\n      <th>D</th>\n      <td>1.130018</td>\n      <td>0.897796</td>\n      <td>0.330866</td>\n      <td>-1.063049</td>\n    </tr>\n  </tbody>\n</table>\n</div>"
     },
     "metadata": {},
     "execution_count": 52
    }
   ],
   "source": [
    "df"
   ]
  },
  {
   "cell_type": "code",
   "execution_count": 54,
   "metadata": {},
   "outputs": [
    {
     "output_type": "execute_result",
     "data": {
      "text/plain": [
       "W    0.093628\n",
       "X    1.240813\n",
       "Y   -1.097693\n",
       "Z   -1.908009\n",
       "Name: A, dtype: float64"
      ]
     },
     "metadata": {},
     "execution_count": 54
    }
   ],
   "source": [
    "df.loc['A'] #returns a series"
   ]
  },
  {
   "cell_type": "code",
   "execution_count": 56,
   "metadata": {},
   "outputs": [
    {
     "output_type": "execute_result",
     "data": {
      "text/plain": [
       "W    0.178009\n",
       "X   -0.626805\n",
       "Y   -0.391089\n",
       "Z    1.743477\n",
       "Name: C, dtype: float64"
      ]
     },
     "metadata": {},
     "execution_count": 56
    }
   ],
   "source": [
    "df.iloc[2] #turns index into a numerical values, since C is at location/index 2 it returns series containing row C"
   ]
  },
  {
   "cell_type": "code",
   "execution_count": 58,
   "metadata": {},
   "outputs": [
    {
     "output_type": "execute_result",
     "data": {
      "text/plain": [
       "-2.7369945956467303"
      ]
     },
     "metadata": {},
     "execution_count": 58
    }
   ],
   "source": [
    "df.loc['B','Y']"
   ]
  },
  {
   "cell_type": "code",
   "execution_count": 71,
   "metadata": {},
   "outputs": [
    {
     "output_type": "execute_result",
     "data": {
      "text/plain": [
       "          Z         Y\n",
       "A -1.908009 -1.097693\n",
       "B  1.522562 -2.736995"
      ],
      "text/html": "<div>\n<style scoped>\n    .dataframe tbody tr th:only-of-type {\n        vertical-align: middle;\n    }\n\n    .dataframe tbody tr th {\n        vertical-align: top;\n    }\n\n    .dataframe thead th {\n        text-align: right;\n    }\n</style>\n<table border=\"1\" class=\"dataframe\">\n  <thead>\n    <tr style=\"text-align: right;\">\n      <th></th>\n      <th>Z</th>\n      <th>Y</th>\n    </tr>\n  </thead>\n  <tbody>\n    <tr>\n      <th>A</th>\n      <td>-1.908009</td>\n      <td>-1.097693</td>\n    </tr>\n    <tr>\n      <th>B</th>\n      <td>1.522562</td>\n      <td>-2.736995</td>\n    </tr>\n  </tbody>\n</table>\n</div>"
     },
     "metadata": {},
     "execution_count": 71
    }
   ],
   "source": [
    "df.loc[['A','B'],['Z','Y', 'X']]"
   ]
  }
 ]
}