{
 "metadata": {
  "language_info": {
   "codemirror_mode": {
    "name": "ipython",
    "version": 3
   },
   "file_extension": ".py",
   "mimetype": "text/x-python",
   "name": "python",
   "nbconvert_exporter": "python",
   "pygments_lexer": "ipython3",
   "version": "3.8.5-final"
  },
  "orig_nbformat": 2,
  "kernelspec": {
   "name": "python3",
   "display_name": "Python 3",
   "language": "python"
  }
 },
 "nbformat": 4,
 "nbformat_minor": 2,
 "cells": [
  {
   "source": [
    "# Data Input and Ouput\n"
   ],
   "cell_type": "markdown",
   "metadata": {}
  },
  {
   "cell_type": "code",
   "execution_count": 1,
   "metadata": {},
   "outputs": [],
   "source": [
    "import pandas as pd"
   ]
  },
  {
   "cell_type": "code",
   "execution_count": 6,
   "metadata": {},
   "outputs": [],
   "source": [
    "df = pd.read_excel(\"Excel_Sample.xlsx\",sheet_name='Sheet1')"
   ]
  },
  {
   "cell_type": "code",
   "execution_count": 9,
   "metadata": {},
   "outputs": [],
   "source": [
    "df.to_excel('Excel_Sample2.xlsx',sheet_name='Sheet1')"
   ]
  },
  {
   "cell_type": "code",
   "execution_count": 11,
   "metadata": {},
   "outputs": [],
   "source": [
    "data = pd.read_html('https://www.fdic.gov/resources/resolutions/bank-failures/failed-bank-list/')"
   ]
  },
  {
   "cell_type": "code",
   "execution_count": 18,
   "metadata": {},
   "outputs": [
    {
     "output_type": "execute_result",
     "data": {
      "text/plain": [
       "                             Bank Name               City State   Cert  \\\n",
       "0                    Almena State Bank             Almena    KS  15426   \n",
       "1           First City Bank of Florida  Fort Walton Beach    FL  16748   \n",
       "2                 The First State Bank      Barboursville    WV  14361   \n",
       "3                   Ericson State Bank            Ericson    NE  18265   \n",
       "4     City National Bank of New Jersey             Newark    NJ  21111   \n",
       "..                                 ...                ...   ...    ...   \n",
       "558                 Superior Bank, FSB           Hinsdale    IL  32646   \n",
       "559                Malta National Bank              Malta    OH   6629   \n",
       "560    First Alliance Bank & Trust Co.         Manchester    NH  34264   \n",
       "561  National State Bank of Metropolis         Metropolis    IL   3815   \n",
       "562                   Bank of Honolulu           Honolulu    HI  21029   \n",
       "\n",
       "                   Acquiring Institution       Closing Date  \n",
       "0                            Equity Bank   October 23, 2020  \n",
       "1              United Fidelity Bank, fsb   October 16, 2020  \n",
       "2                         MVB Bank, Inc.      April 3, 2020  \n",
       "3             Farmers and Merchants Bank  February 14, 2020  \n",
       "4                        Industrial Bank   November 1, 2019  \n",
       "..                                   ...                ...  \n",
       "558                Superior Federal, FSB      July 27, 2001  \n",
       "559                    North Valley Bank        May 3, 2001  \n",
       "560  Southern New Hampshire Bank & Trust   February 2, 2001  \n",
       "561              Banterra Bank of Marion  December 14, 2000  \n",
       "562                   Bank of the Orient   October 13, 2000  \n",
       "\n",
       "[563 rows x 6 columns]"
      ],
      "text/html": "<div>\n<style scoped>\n    .dataframe tbody tr th:only-of-type {\n        vertical-align: middle;\n    }\n\n    .dataframe tbody tr th {\n        vertical-align: top;\n    }\n\n    .dataframe thead th {\n        text-align: right;\n    }\n</style>\n<table border=\"1\" class=\"dataframe\">\n  <thead>\n    <tr style=\"text-align: right;\">\n      <th></th>\n      <th>Bank Name</th>\n      <th>City</th>\n      <th>State</th>\n      <th>Cert</th>\n      <th>Acquiring Institution</th>\n      <th>Closing Date</th>\n    </tr>\n  </thead>\n  <tbody>\n    <tr>\n      <th>0</th>\n      <td>Almena State Bank</td>\n      <td>Almena</td>\n      <td>KS</td>\n      <td>15426</td>\n      <td>Equity Bank</td>\n      <td>October 23, 2020</td>\n    </tr>\n    <tr>\n      <th>1</th>\n      <td>First City Bank of Florida</td>\n      <td>Fort Walton Beach</td>\n      <td>FL</td>\n      <td>16748</td>\n      <td>United Fidelity Bank, fsb</td>\n      <td>October 16, 2020</td>\n    </tr>\n    <tr>\n      <th>2</th>\n      <td>The First State Bank</td>\n      <td>Barboursville</td>\n      <td>WV</td>\n      <td>14361</td>\n      <td>MVB Bank, Inc.</td>\n      <td>April 3, 2020</td>\n    </tr>\n    <tr>\n      <th>3</th>\n      <td>Ericson State Bank</td>\n      <td>Ericson</td>\n      <td>NE</td>\n      <td>18265</td>\n      <td>Farmers and Merchants Bank</td>\n      <td>February 14, 2020</td>\n    </tr>\n    <tr>\n      <th>4</th>\n      <td>City National Bank of New Jersey</td>\n      <td>Newark</td>\n      <td>NJ</td>\n      <td>21111</td>\n      <td>Industrial Bank</td>\n      <td>November 1, 2019</td>\n    </tr>\n    <tr>\n      <th>...</th>\n      <td>...</td>\n      <td>...</td>\n      <td>...</td>\n      <td>...</td>\n      <td>...</td>\n      <td>...</td>\n    </tr>\n    <tr>\n      <th>558</th>\n      <td>Superior Bank, FSB</td>\n      <td>Hinsdale</td>\n      <td>IL</td>\n      <td>32646</td>\n      <td>Superior Federal, FSB</td>\n      <td>July 27, 2001</td>\n    </tr>\n    <tr>\n      <th>559</th>\n      <td>Malta National Bank</td>\n      <td>Malta</td>\n      <td>OH</td>\n      <td>6629</td>\n      <td>North Valley Bank</td>\n      <td>May 3, 2001</td>\n    </tr>\n    <tr>\n      <th>560</th>\n      <td>First Alliance Bank &amp; Trust Co.</td>\n      <td>Manchester</td>\n      <td>NH</td>\n      <td>34264</td>\n      <td>Southern New Hampshire Bank &amp; Trust</td>\n      <td>February 2, 2001</td>\n    </tr>\n    <tr>\n      <th>561</th>\n      <td>National State Bank of Metropolis</td>\n      <td>Metropolis</td>\n      <td>IL</td>\n      <td>3815</td>\n      <td>Banterra Bank of Marion</td>\n      <td>December 14, 2000</td>\n    </tr>\n    <tr>\n      <th>562</th>\n      <td>Bank of Honolulu</td>\n      <td>Honolulu</td>\n      <td>HI</td>\n      <td>21029</td>\n      <td>Bank of the Orient</td>\n      <td>October 13, 2000</td>\n    </tr>\n  </tbody>\n</table>\n<p>563 rows × 6 columns</p>\n</div>"
     },
     "metadata": {},
     "execution_count": 18
    }
   ],
   "source": [
    "data[0] #what pandas does is it looks for the tr/table tags in the given html file and copys it in a list"
   ]
  },
  {
   "cell_type": "code",
   "execution_count": 20,
   "metadata": {},
   "outputs": [
    {
     "output_type": "execute_result",
     "data": {
      "text/plain": [
       "                          Bank Name               City State   Cert  \\\n",
       "0                 Almena State Bank             Almena    KS  15426   \n",
       "1        First City Bank of Florida  Fort Walton Beach    FL  16748   \n",
       "2              The First State Bank      Barboursville    WV  14361   \n",
       "3                Ericson State Bank            Ericson    NE  18265   \n",
       "4  City National Bank of New Jersey             Newark    NJ  21111   \n",
       "\n",
       "        Acquiring Institution       Closing Date  \n",
       "0                 Equity Bank   October 23, 2020  \n",
       "1   United Fidelity Bank, fsb   October 16, 2020  \n",
       "2              MVB Bank, Inc.      April 3, 2020  \n",
       "3  Farmers and Merchants Bank  February 14, 2020  \n",
       "4             Industrial Bank   November 1, 2019  "
      ],
      "text/html": "<div>\n<style scoped>\n    .dataframe tbody tr th:only-of-type {\n        vertical-align: middle;\n    }\n\n    .dataframe tbody tr th {\n        vertical-align: top;\n    }\n\n    .dataframe thead th {\n        text-align: right;\n    }\n</style>\n<table border=\"1\" class=\"dataframe\">\n  <thead>\n    <tr style=\"text-align: right;\">\n      <th></th>\n      <th>Bank Name</th>\n      <th>City</th>\n      <th>State</th>\n      <th>Cert</th>\n      <th>Acquiring Institution</th>\n      <th>Closing Date</th>\n    </tr>\n  </thead>\n  <tbody>\n    <tr>\n      <th>0</th>\n      <td>Almena State Bank</td>\n      <td>Almena</td>\n      <td>KS</td>\n      <td>15426</td>\n      <td>Equity Bank</td>\n      <td>October 23, 2020</td>\n    </tr>\n    <tr>\n      <th>1</th>\n      <td>First City Bank of Florida</td>\n      <td>Fort Walton Beach</td>\n      <td>FL</td>\n      <td>16748</td>\n      <td>United Fidelity Bank, fsb</td>\n      <td>October 16, 2020</td>\n    </tr>\n    <tr>\n      <th>2</th>\n      <td>The First State Bank</td>\n      <td>Barboursville</td>\n      <td>WV</td>\n      <td>14361</td>\n      <td>MVB Bank, Inc.</td>\n      <td>April 3, 2020</td>\n    </tr>\n    <tr>\n      <th>3</th>\n      <td>Ericson State Bank</td>\n      <td>Ericson</td>\n      <td>NE</td>\n      <td>18265</td>\n      <td>Farmers and Merchants Bank</td>\n      <td>February 14, 2020</td>\n    </tr>\n    <tr>\n      <th>4</th>\n      <td>City National Bank of New Jersey</td>\n      <td>Newark</td>\n      <td>NJ</td>\n      <td>21111</td>\n      <td>Industrial Bank</td>\n      <td>November 1, 2019</td>\n    </tr>\n  </tbody>\n</table>\n</div>"
     },
     "metadata": {},
     "execution_count": 20
    }
   ],
   "source": [
    "data[0].head()"
   ]
  },
  {
   "cell_type": "code",
   "execution_count": 21,
   "metadata": {},
   "outputs": [],
   "source": [
    "from sqlalchemy import create_engine"
   ]
  },
  {
   "cell_type": "code",
   "execution_count": 22,
   "metadata": {},
   "outputs": [],
   "source": [
    "engine = create_engine('sqlite:///:memory:')"
   ]
  },
  {
   "cell_type": "code",
   "execution_count": 27,
   "metadata": {},
   "outputs": [],
   "source": [
    "df.to_sql('my_table2', engine)"
   ]
  },
  {
   "cell_type": "code",
   "execution_count": 28,
   "metadata": {},
   "outputs": [],
   "source": [
    "sqldf = pd.read_sql('my_table2', con=engine)"
   ]
  },
  {
   "cell_type": "code",
   "execution_count": 29,
   "metadata": {},
   "outputs": [
    {
     "output_type": "execute_result",
     "data": {
      "text/plain": [
       "   index  Unnamed: 0   a   b   c   d\n",
       "0      0           0   0   1   2   3\n",
       "1      1           1   4   5   6   7\n",
       "2      2           2   8   9  10  11\n",
       "3      3           3  12  13  14  15"
      ],
      "text/html": "<div>\n<style scoped>\n    .dataframe tbody tr th:only-of-type {\n        vertical-align: middle;\n    }\n\n    .dataframe tbody tr th {\n        vertical-align: top;\n    }\n\n    .dataframe thead th {\n        text-align: right;\n    }\n</style>\n<table border=\"1\" class=\"dataframe\">\n  <thead>\n    <tr style=\"text-align: right;\">\n      <th></th>\n      <th>index</th>\n      <th>Unnamed: 0</th>\n      <th>a</th>\n      <th>b</th>\n      <th>c</th>\n      <th>d</th>\n    </tr>\n  </thead>\n  <tbody>\n    <tr>\n      <th>0</th>\n      <td>0</td>\n      <td>0</td>\n      <td>0</td>\n      <td>1</td>\n      <td>2</td>\n      <td>3</td>\n    </tr>\n    <tr>\n      <th>1</th>\n      <td>1</td>\n      <td>1</td>\n      <td>4</td>\n      <td>5</td>\n      <td>6</td>\n      <td>7</td>\n    </tr>\n    <tr>\n      <th>2</th>\n      <td>2</td>\n      <td>2</td>\n      <td>8</td>\n      <td>9</td>\n      <td>10</td>\n      <td>11</td>\n    </tr>\n    <tr>\n      <th>3</th>\n      <td>3</td>\n      <td>3</td>\n      <td>12</td>\n      <td>13</td>\n      <td>14</td>\n      <td>15</td>\n    </tr>\n  </tbody>\n</table>\n</div>"
     },
     "metadata": {},
     "execution_count": 29
    }
   ],
   "source": [
    "sqldf"
   ]
  },
  {
   "cell_type": "code",
   "execution_count": null,
   "metadata": {},
   "outputs": [],
   "source": []
  }
 ]
}